{
 "cells": [
  {
   "metadata": {},
   "cell_type": "markdown",
   "source": "# Import Module",
   "id": "f7bcf26436f5c9ae"
  },
  {
   "cell_type": "code",
   "id": "778ae7db",
   "metadata": {
    "ExecuteTime": {
     "end_time": "2025-08-08T07:05:23.788998Z",
     "start_time": "2025-08-08T07:04:59.634975Z"
    }
   },
   "source": [
    "import numpy as np\n",
    "import pandas as pd\n",
    "\n",
    "import tensorflow as tf\n",
    "from keras import models\n",
    "from keras import layers\n",
    "from keras import optimizers\n",
    "\n",
    "import seaborn as sns\n",
    "import matplotlib.pyplot as plt"
   ],
   "outputs": [],
   "execution_count": 1
  },
  {
   "cell_type": "markdown",
   "id": "49ec26ac",
   "metadata": {},
   "source": [
    "# Import Dataaset"
   ]
  },
  {
   "cell_type": "code",
   "id": "818832c4",
   "metadata": {
    "ExecuteTime": {
     "end_time": "2025-08-08T07:05:33.813227Z",
     "start_time": "2025-08-08T07:05:25.560756Z"
    }
   },
   "source": [
    "df_train = pd.read_csv(\"dataset/train.csv\")\n",
    "df_test = pd.read_csv(\"dataset/test.csv\")"
   ],
   "outputs": [],
   "execution_count": 2
  },
  {
   "cell_type": "markdown",
   "id": "3df31fe5",
   "metadata": {},
   "source": [
    "# Data Processing"
   ]
  },
  {
   "cell_type": "code",
   "id": "d8e30b45",
   "metadata": {
    "ExecuteTime": {
     "end_time": "2025-08-08T07:05:37.521113Z",
     "start_time": "2025-08-08T07:05:37.323617Z"
    }
   },
   "source": [
    "df_train"
   ],
   "outputs": [
    {
     "data": {
      "text/plain": [
       "            id     Sex  Age  Height  Weight  Duration  Heart_Rate  Body_Temp  \\\n",
       "0            0    male   36   189.0    82.0      26.0       101.0       41.0   \n",
       "1            1  female   64   163.0    60.0       8.0        85.0       39.7   \n",
       "2            2  female   51   161.0    64.0       7.0        84.0       39.8   \n",
       "3            3    male   20   192.0    90.0      25.0       105.0       40.7   \n",
       "4            4  female   38   166.0    61.0      25.0       102.0       40.6   \n",
       "...        ...     ...  ...     ...     ...       ...         ...        ...   \n",
       "749995  749995    male   28   193.0    97.0      30.0       114.0       40.9   \n",
       "749996  749996  female   64   165.0    63.0      18.0        92.0       40.5   \n",
       "749997  749997    male   60   162.0    67.0      29.0       113.0       40.9   \n",
       "749998  749998    male   45   182.0    91.0      17.0       102.0       40.3   \n",
       "749999  749999  female   39   171.0    65.0      19.0        97.0       40.6   \n",
       "\n",
       "        Calories  \n",
       "0          150.0  \n",
       "1           34.0  \n",
       "2           29.0  \n",
       "3          140.0  \n",
       "4          146.0  \n",
       "...          ...  \n",
       "749995     230.0  \n",
       "749996      96.0  \n",
       "749997     221.0  \n",
       "749998     109.0  \n",
       "749999     103.0  \n",
       "\n",
       "[750000 rows x 9 columns]"
      ],
      "text/html": [
       "<div>\n",
       "<style scoped>\n",
       "    .dataframe tbody tr th:only-of-type {\n",
       "        vertical-align: middle;\n",
       "    }\n",
       "\n",
       "    .dataframe tbody tr th {\n",
       "        vertical-align: top;\n",
       "    }\n",
       "\n",
       "    .dataframe thead th {\n",
       "        text-align: right;\n",
       "    }\n",
       "</style>\n",
       "<table border=\"1\" class=\"dataframe\">\n",
       "  <thead>\n",
       "    <tr style=\"text-align: right;\">\n",
       "      <th></th>\n",
       "      <th>id</th>\n",
       "      <th>Sex</th>\n",
       "      <th>Age</th>\n",
       "      <th>Height</th>\n",
       "      <th>Weight</th>\n",
       "      <th>Duration</th>\n",
       "      <th>Heart_Rate</th>\n",
       "      <th>Body_Temp</th>\n",
       "      <th>Calories</th>\n",
       "    </tr>\n",
       "  </thead>\n",
       "  <tbody>\n",
       "    <tr>\n",
       "      <th>0</th>\n",
       "      <td>0</td>\n",
       "      <td>male</td>\n",
       "      <td>36</td>\n",
       "      <td>189.0</td>\n",
       "      <td>82.0</td>\n",
       "      <td>26.0</td>\n",
       "      <td>101.0</td>\n",
       "      <td>41.0</td>\n",
       "      <td>150.0</td>\n",
       "    </tr>\n",
       "    <tr>\n",
       "      <th>1</th>\n",
       "      <td>1</td>\n",
       "      <td>female</td>\n",
       "      <td>64</td>\n",
       "      <td>163.0</td>\n",
       "      <td>60.0</td>\n",
       "      <td>8.0</td>\n",
       "      <td>85.0</td>\n",
       "      <td>39.7</td>\n",
       "      <td>34.0</td>\n",
       "    </tr>\n",
       "    <tr>\n",
       "      <th>2</th>\n",
       "      <td>2</td>\n",
       "      <td>female</td>\n",
       "      <td>51</td>\n",
       "      <td>161.0</td>\n",
       "      <td>64.0</td>\n",
       "      <td>7.0</td>\n",
       "      <td>84.0</td>\n",
       "      <td>39.8</td>\n",
       "      <td>29.0</td>\n",
       "    </tr>\n",
       "    <tr>\n",
       "      <th>3</th>\n",
       "      <td>3</td>\n",
       "      <td>male</td>\n",
       "      <td>20</td>\n",
       "      <td>192.0</td>\n",
       "      <td>90.0</td>\n",
       "      <td>25.0</td>\n",
       "      <td>105.0</td>\n",
       "      <td>40.7</td>\n",
       "      <td>140.0</td>\n",
       "    </tr>\n",
       "    <tr>\n",
       "      <th>4</th>\n",
       "      <td>4</td>\n",
       "      <td>female</td>\n",
       "      <td>38</td>\n",
       "      <td>166.0</td>\n",
       "      <td>61.0</td>\n",
       "      <td>25.0</td>\n",
       "      <td>102.0</td>\n",
       "      <td>40.6</td>\n",
       "      <td>146.0</td>\n",
       "    </tr>\n",
       "    <tr>\n",
       "      <th>...</th>\n",
       "      <td>...</td>\n",
       "      <td>...</td>\n",
       "      <td>...</td>\n",
       "      <td>...</td>\n",
       "      <td>...</td>\n",
       "      <td>...</td>\n",
       "      <td>...</td>\n",
       "      <td>...</td>\n",
       "      <td>...</td>\n",
       "    </tr>\n",
       "    <tr>\n",
       "      <th>749995</th>\n",
       "      <td>749995</td>\n",
       "      <td>male</td>\n",
       "      <td>28</td>\n",
       "      <td>193.0</td>\n",
       "      <td>97.0</td>\n",
       "      <td>30.0</td>\n",
       "      <td>114.0</td>\n",
       "      <td>40.9</td>\n",
       "      <td>230.0</td>\n",
       "    </tr>\n",
       "    <tr>\n",
       "      <th>749996</th>\n",
       "      <td>749996</td>\n",
       "      <td>female</td>\n",
       "      <td>64</td>\n",
       "      <td>165.0</td>\n",
       "      <td>63.0</td>\n",
       "      <td>18.0</td>\n",
       "      <td>92.0</td>\n",
       "      <td>40.5</td>\n",
       "      <td>96.0</td>\n",
       "    </tr>\n",
       "    <tr>\n",
       "      <th>749997</th>\n",
       "      <td>749997</td>\n",
       "      <td>male</td>\n",
       "      <td>60</td>\n",
       "      <td>162.0</td>\n",
       "      <td>67.0</td>\n",
       "      <td>29.0</td>\n",
       "      <td>113.0</td>\n",
       "      <td>40.9</td>\n",
       "      <td>221.0</td>\n",
       "    </tr>\n",
       "    <tr>\n",
       "      <th>749998</th>\n",
       "      <td>749998</td>\n",
       "      <td>male</td>\n",
       "      <td>45</td>\n",
       "      <td>182.0</td>\n",
       "      <td>91.0</td>\n",
       "      <td>17.0</td>\n",
       "      <td>102.0</td>\n",
       "      <td>40.3</td>\n",
       "      <td>109.0</td>\n",
       "    </tr>\n",
       "    <tr>\n",
       "      <th>749999</th>\n",
       "      <td>749999</td>\n",
       "      <td>female</td>\n",
       "      <td>39</td>\n",
       "      <td>171.0</td>\n",
       "      <td>65.0</td>\n",
       "      <td>19.0</td>\n",
       "      <td>97.0</td>\n",
       "      <td>40.6</td>\n",
       "      <td>103.0</td>\n",
       "    </tr>\n",
       "  </tbody>\n",
       "</table>\n",
       "<p>750000 rows × 9 columns</p>\n",
       "</div>"
      ]
     },
     "execution_count": 3,
     "metadata": {},
     "output_type": "execute_result"
    }
   ],
   "execution_count": 3
  },
  {
   "cell_type": "code",
   "id": "40082f1d",
   "metadata": {
    "ExecuteTime": {
     "end_time": "2025-08-08T07:05:41.696044Z",
     "start_time": "2025-08-08T07:05:41.561292Z"
    }
   },
   "source": [
    "df_train.isna().sum()"
   ],
   "outputs": [
    {
     "data": {
      "text/plain": [
       "id            0\n",
       "Sex           0\n",
       "Age           0\n",
       "Height        0\n",
       "Weight        0\n",
       "Duration      0\n",
       "Heart_Rate    0\n",
       "Body_Temp     0\n",
       "Calories      0\n",
       "dtype: int64"
      ]
     },
     "execution_count": 4,
     "metadata": {},
     "output_type": "execute_result"
    }
   ],
   "execution_count": 4
  },
  {
   "cell_type": "code",
   "id": "490320a3",
   "metadata": {
    "ExecuteTime": {
     "end_time": "2025-08-08T07:05:44.146570Z",
     "start_time": "2025-08-08T07:05:43.954433Z"
    }
   },
   "source": [
    "df_train.info()"
   ],
   "outputs": [
    {
     "name": "stdout",
     "output_type": "stream",
     "text": [
      "<class 'pandas.core.frame.DataFrame'>\n",
      "RangeIndex: 750000 entries, 0 to 749999\n",
      "Data columns (total 9 columns):\n",
      " #   Column      Non-Null Count   Dtype  \n",
      "---  ------      --------------   -----  \n",
      " 0   id          750000 non-null  int64  \n",
      " 1   Sex         750000 non-null  object \n",
      " 2   Age         750000 non-null  int64  \n",
      " 3   Height      750000 non-null  float64\n",
      " 4   Weight      750000 non-null  float64\n",
      " 5   Duration    750000 non-null  float64\n",
      " 6   Heart_Rate  750000 non-null  float64\n",
      " 7   Body_Temp   750000 non-null  float64\n",
      " 8   Calories    750000 non-null  float64\n",
      "dtypes: float64(6), int64(2), object(1)\n",
      "memory usage: 51.5+ MB\n"
     ]
    }
   ],
   "execution_count": 5
  },
  {
   "cell_type": "code",
   "id": "dd8f612c",
   "metadata": {
    "ExecuteTime": {
     "end_time": "2025-08-08T07:05:46.009659Z",
     "start_time": "2025-08-08T07:05:45.599722Z"
    }
   },
   "source": [
    "df_test.info()"
   ],
   "outputs": [
    {
     "name": "stdout",
     "output_type": "stream",
     "text": [
      "<class 'pandas.core.frame.DataFrame'>\n",
      "RangeIndex: 250000 entries, 0 to 249999\n",
      "Data columns (total 8 columns):\n",
      " #   Column      Non-Null Count   Dtype  \n",
      "---  ------      --------------   -----  \n",
      " 0   id          250000 non-null  int64  \n",
      " 1   Sex         250000 non-null  object \n",
      " 2   Age         250000 non-null  int64  \n",
      " 3   Height      250000 non-null  float64\n",
      " 4   Weight      250000 non-null  float64\n",
      " 5   Duration    250000 non-null  float64\n",
      " 6   Heart_Rate  250000 non-null  float64\n",
      " 7   Body_Temp   250000 non-null  float64\n",
      "dtypes: float64(5), int64(2), object(1)\n",
      "memory usage: 15.3+ MB\n"
     ]
    }
   ],
   "execution_count": 6
  },
  {
   "cell_type": "code",
   "id": "6b2a1343",
   "metadata": {
    "ExecuteTime": {
     "end_time": "2025-08-08T07:05:49.074733Z",
     "start_time": "2025-08-08T07:05:47.622154Z"
    }
   },
   "source": [
    "df_train['gender_encoded'] = df_train['Sex'].map({'female': 0, 'male': 1})\n",
    "df_train = df_train.drop(columns=['Sex', 'id'])"
   ],
   "outputs": [],
   "execution_count": 7
  },
  {
   "cell_type": "code",
   "id": "0fbc1ef7",
   "metadata": {
    "ExecuteTime": {
     "end_time": "2025-08-08T07:05:50.605535Z",
     "start_time": "2025-08-08T07:05:50.433469Z"
    }
   },
   "source": [
    "df_test['gender_encoded'] = df_test['Sex'].map({'female': 0, 'male': 1})\n",
    "df_test = df_test.drop(columns=['Sex', 'id'])"
   ],
   "outputs": [],
   "execution_count": 8
  },
  {
   "cell_type": "code",
   "id": "30295c0c",
   "metadata": {
    "ExecuteTime": {
     "end_time": "2025-08-08T07:05:51.166687Z",
     "start_time": "2025-08-08T07:05:51.078865Z"
    }
   },
   "source": [
    "df_train.info()"
   ],
   "outputs": [
    {
     "name": "stdout",
     "output_type": "stream",
     "text": [
      "<class 'pandas.core.frame.DataFrame'>\n",
      "RangeIndex: 750000 entries, 0 to 749999\n",
      "Data columns (total 8 columns):\n",
      " #   Column          Non-Null Count   Dtype  \n",
      "---  ------          --------------   -----  \n",
      " 0   Age             750000 non-null  int64  \n",
      " 1   Height          750000 non-null  float64\n",
      " 2   Weight          750000 non-null  float64\n",
      " 3   Duration        750000 non-null  float64\n",
      " 4   Heart_Rate      750000 non-null  float64\n",
      " 5   Body_Temp       750000 non-null  float64\n",
      " 6   Calories        750000 non-null  float64\n",
      " 7   gender_encoded  750000 non-null  int64  \n",
      "dtypes: float64(6), int64(2)\n",
      "memory usage: 45.8 MB\n"
     ]
    }
   ],
   "execution_count": 9
  },
  {
   "cell_type": "code",
   "id": "0a181e0b",
   "metadata": {
    "ExecuteTime": {
     "end_time": "2025-08-08T07:05:52.998731Z",
     "start_time": "2025-08-08T07:05:52.932358Z"
    }
   },
   "source": [
    "df_test.info()"
   ],
   "outputs": [
    {
     "name": "stdout",
     "output_type": "stream",
     "text": [
      "<class 'pandas.core.frame.DataFrame'>\n",
      "RangeIndex: 250000 entries, 0 to 249999\n",
      "Data columns (total 7 columns):\n",
      " #   Column          Non-Null Count   Dtype  \n",
      "---  ------          --------------   -----  \n",
      " 0   Age             250000 non-null  int64  \n",
      " 1   Height          250000 non-null  float64\n",
      " 2   Weight          250000 non-null  float64\n",
      " 3   Duration        250000 non-null  float64\n",
      " 4   Heart_Rate      250000 non-null  float64\n",
      " 5   Body_Temp       250000 non-null  float64\n",
      " 6   gender_encoded  250000 non-null  int64  \n",
      "dtypes: float64(5), int64(2)\n",
      "memory usage: 13.4 MB\n"
     ]
    }
   ],
   "execution_count": 10
  },
  {
   "cell_type": "markdown",
   "id": "9f840e34",
   "metadata": {},
   "source": [
    "## Exploratory Data Analysis (EDA)"
   ]
  },
  {
   "cell_type": "code",
   "id": "bfdc4935",
   "metadata": {
    "ExecuteTime": {
     "end_time": "2025-08-08T07:05:54.957310Z",
     "start_time": "2025-08-08T07:05:53.656855Z"
    }
   },
   "source": [
    "correlation_matrix = df_train.corr()"
   ],
   "outputs": [],
   "execution_count": 11
  },
  {
   "cell_type": "code",
   "id": "d992659a",
   "metadata": {
    "ExecuteTime": {
     "end_time": "2025-08-08T07:06:00.782064Z",
     "start_time": "2025-08-08T07:05:57.768412Z"
    }
   },
   "source": [
    "plt.figure(figsize=(10, 8))\n",
    "sns.heatmap(\n",
    "  correlation_matrix,\n",
    "  annot=True,\n",
    "  cmap='coolwarm',\n",
    "  fmt='.2f'\n",
    ")\n",
    "plt.title('Heatmap Korelasi Antar Fitur')\n",
    "plt.show()"
   ],
   "outputs": [
    {
     "data": {
      "text/plain": [
       "<Figure size 1000x800 with 2 Axes>"
      ],
      "image/png": "[encoded data removed]"
     },
     "metadata": {},
     "output_type": "display_data"
    }
   ],
   "execution_count": 12
  },
  {
   "cell_type": "markdown",
   "id": "9b0569a7",
   "metadata": {},
   "source": [
    "# Training Model"
   ]
  },
  {
   "cell_type": "code",
   "id": "2a5cd8f5",
   "metadata": {
    "ExecuteTime": {
     "end_time": "2025-08-08T07:06:02.154618Z",
     "start_time": "2025-08-08T07:06:01.760667Z"
    }
   },
   "source": [
    "from sklearn.preprocessing import StandardScaler\n",
    "\n",
    "X_train = df_train.drop('Calories', axis=1)\n",
    "y_train = df_train['Calories']"
   ],
   "outputs": [],
   "execution_count": 13
  },
  {
   "cell_type": "code",
   "id": "29b3896a",
   "metadata": {
    "ExecuteTime": {
     "end_time": "2025-08-08T07:06:02.714800Z",
     "start_time": "2025-08-08T07:06:02.677317Z"
    }
   },
   "source": [
    "X_test = df_test"
   ],
   "outputs": [],
   "execution_count": 14
  },
  {
   "cell_type": "code",
   "id": "ced4bd79",
   "metadata": {
    "ExecuteTime": {
     "end_time": "2025-08-08T07:06:05.364232Z",
     "start_time": "2025-08-08T07:06:04.415885Z"
    }
   },
   "source": [
    "scaler = StandardScaler()\n",
    "\n",
    "X_train_scaled = scaler.fit_transform(X_train)\n",
    "\n",
    "X_test_scaled = scaler.transform(X_test)"
   ],
   "outputs": [],
   "execution_count": 15
  },
  {
   "cell_type": "markdown",
   "id": "9852773f",
   "metadata": {},
   "source": [
    "## Arsitecture Model"
   ]
  },
  {
   "cell_type": "code",
   "id": "5044ce8d",
   "metadata": {
    "ExecuteTime": {
     "end_time": "2025-08-08T07:06:06.280400Z",
     "start_time": "2025-08-08T07:06:06.259660Z"
    }
   },
   "source": [
    "input_features = X_train_scaled.shape[1]"
   ],
   "outputs": [],
   "execution_count": 16
  },
  {
   "cell_type": "code",
   "id": "679c8c63",
   "metadata": {
    "ExecuteTime": {
     "end_time": "2025-08-08T07:06:09.339283Z",
     "start_time": "2025-08-08T07:06:06.857883Z"
    }
   },
   "source": [
    "model = models.Sequential([\n",
    "    # Lapisan Input dan Lapisan Tersembunyi Pertama\n",
    "    layers.Dense(64, activation='relu', input_shape=[input_features]),\n",
    "    # Lapisan Tersembunyi Kedua\n",
    "    layers.Dense(64, activation='relu'),\n",
    "    # Lapisan Tersembunyi Ketiga\n",
    "    layers.Dense(32, activation='relu'),\n",
    "    # Lapisan Output untuk Regresi (1 neuron, tanpa aktivasi)\n",
    "    layers.Dense(1)\n",
    "])\n",
    "\n",
    "model.compile(\n",
    "    optimizer='adam',\n",
    "    loss='mean_squared_error',\n",
    "    metrics=['mean_absolute_error']\n",
    ")\n",
    "\n",
    "print(\"--- Arsitektur Model ---\")\n",
    "model.summary()\n",
    "print(\"\\n\")"
   ],
   "outputs": [
    {
     "name": "stderr",
     "output_type": "stream",
     "text": [
      "D:\\projects\\python\\kecerdasan-buatan\\calories\\.venv\\lib\\site-packages\\keras\\src\\layers\\core\\dense.py:92: UserWarning: Do not pass an `input_shape`/`input_dim` argument to a layer. When using Sequential models, prefer using an `Input(shape)` object as the first layer in the model instead.\n",
      "  super().__init__(activity_regularizer=activity_regularizer, **kwargs)\n"
     ]
    },
    {
     "name": "stdout",
     "output_type": "stream",
     "text": [
      "--- Arsitektur Model ---\n"
     ]
    },
    {
     "data": {
      "text/plain": [
       "\u001B[1mModel: \"sequential\"\u001B[0m\n"
      ],
      "text/html": [
       "<pre style=\"white-space:pre;overflow-x:auto;line-height:normal;font-family:Menlo,'DejaVu Sans Mono',consolas,'Courier New',monospace\"><span style=\"font-weight: bold\">Model: \"sequential\"</span>\n",
       "</pre>\n"
      ]
     },
     "metadata": {},
     "output_type": "display_data"
    },
    {
     "data": {
      "text/plain": [
       "┏━━━━━━━━━━━━━━━━━━━━━━━━━━━━━━━━━┳━━━━━━━━━━━━━━━━━━━━━━━━┳━━━━━━━━━━━━━━━┓\n",
       "┃\u001B[1m \u001B[0m\u001B[1mLayer (type)                   \u001B[0m\u001B[1m \u001B[0m┃\u001B[1m \u001B[0m\u001B[1mOutput Shape          \u001B[0m\u001B[1m \u001B[0m┃\u001B[1m \u001B[0m\u001B[1m      Param #\u001B[0m\u001B[1m \u001B[0m┃\n",
       "┡━━━━━━━━━━━━━━━━━━━━━━━━━━━━━━━━━╇━━━━━━━━━━━━━━━━━━━━━━━━╇━━━━━━━━━━━━━━━┩\n",
       "│ dense (\u001B[38;5;33mDense\u001B[0m)                   │ (\u001B[38;5;45mNone\u001B[0m, \u001B[38;5;34m64\u001B[0m)             │           \u001B[38;5;34m512\u001B[0m │\n",
       "├─────────────────────────────────┼────────────────────────┼───────────────┤\n",
       "│ dense_1 (\u001B[38;5;33mDense\u001B[0m)                 │ (\u001B[38;5;45mNone\u001B[0m, \u001B[38;5;34m64\u001B[0m)             │         \u001B[38;5;34m4,160\u001B[0m │\n",
       "├─────────────────────────────────┼────────────────────────┼───────────────┤\n",
       "│ dense_2 (\u001B[38;5;33mDense\u001B[0m)                 │ (\u001B[38;5;45mNone\u001B[0m, \u001B[38;5;34m32\u001B[0m)             │         \u001B[38;5;34m2,080\u001B[0m │\n",
       "├─────────────────────────────────┼────────────────────────┼───────────────┤\n",
       "│ dense_3 (\u001B[38;5;33mDense\u001B[0m)                 │ (\u001B[38;5;45mNone\u001B[0m, \u001B[38;5;34m1\u001B[0m)              │            \u001B[38;5;34m33\u001B[0m │\n",
       "└─────────────────────────────────┴────────────────────────┴───────────────┘\n"
      ],
      "text/html": [
       "<pre style=\"white-space:pre;overflow-x:auto;line-height:normal;font-family:Menlo,'DejaVu Sans Mono',consolas,'Courier New',monospace\">┏━━━━━━━━━━━━━━━━━━━━━━━━━━━━━━━━━┳━━━━━━━━━━━━━━━━━━━━━━━━┳━━━━━━━━━━━━━━━┓\n",
       "┃<span style=\"font-weight: bold\"> Layer (type)                    </span>┃<span style=\"font-weight: bold\"> Output Shape           </span>┃<span style=\"font-weight: bold\">       Param # </span>┃\n",
       "┡━━━━━━━━━━━━━━━━━━━━━━━━━━━━━━━━━╇━━━━━━━━━━━━━━━━━━━━━━━━╇━━━━━━━━━━━━━━━┩\n",
       "│ dense (<span style=\"color: #0087ff; text-decoration-color: #0087ff\">Dense</span>)                   │ (<span style=\"color: #00d7ff; text-decoration-color: #00d7ff\">None</span>, <span style=\"color: #00af00; text-decoration-color: #00af00\">64</span>)             │           <span style=\"color: #00af00; text-decoration-color: #00af00\">512</span> │\n",
       "├─────────────────────────────────┼────────────────────────┼───────────────┤\n",
       "│ dense_1 (<span style=\"color: #0087ff; text-decoration-color: #0087ff\">Dense</span>)                 │ (<span style=\"color: #00d7ff; text-decoration-color: #00d7ff\">None</span>, <span style=\"color: #00af00; text-decoration-color: #00af00\">64</span>)             │         <span style=\"color: #00af00; text-decoration-color: #00af00\">4,160</span> │\n",
       "├─────────────────────────────────┼────────────────────────┼───────────────┤\n",
       "│ dense_2 (<span style=\"color: #0087ff; text-decoration-color: #0087ff\">Dense</span>)                 │ (<span style=\"color: #00d7ff; text-decoration-color: #00d7ff\">None</span>, <span style=\"color: #00af00; text-decoration-color: #00af00\">32</span>)             │         <span style=\"color: #00af00; text-decoration-color: #00af00\">2,080</span> │\n",
       "├─────────────────────────────────┼────────────────────────┼───────────────┤\n",
       "│ dense_3 (<span style=\"color: #0087ff; text-decoration-color: #0087ff\">Dense</span>)                 │ (<span style=\"color: #00d7ff; text-decoration-color: #00d7ff\">None</span>, <span style=\"color: #00af00; text-decoration-color: #00af00\">1</span>)              │            <span style=\"color: #00af00; text-decoration-color: #00af00\">33</span> │\n",
       "└─────────────────────────────────┴────────────────────────┴───────────────┘\n",
       "</pre>\n"
      ]
     },
     "metadata": {},
     "output_type": "display_data"
    },
    {
     "data": {
      "text/plain": [
       "\u001B[1m Total params: \u001B[0m\u001B[38;5;34m6,785\u001B[0m (26.50 KB)\n"
      ],
      "text/html": [
       "<pre style=\"white-space:pre;overflow-x:auto;line-height:normal;font-family:Menlo,'DejaVu Sans Mono',consolas,'Courier New',monospace\"><span style=\"font-weight: bold\"> Total params: </span><span style=\"color: #00af00; text-decoration-color: #00af00\">6,785</span> (26.50 KB)\n",
       "</pre>\n"
      ]
     },
     "metadata": {},
     "output_type": "display_data"
    },
    {
     "data": {
      "text/plain": [
       "\u001B[1m Trainable params: \u001B[0m\u001B[38;5;34m6,785\u001B[0m (26.50 KB)\n"
      ],
      "text/html": [
       "<pre style=\"white-space:pre;overflow-x:auto;line-height:normal;font-family:Menlo,'DejaVu Sans Mono',consolas,'Courier New',monospace\"><span style=\"font-weight: bold\"> Trainable params: </span><span style=\"color: #00af00; text-decoration-color: #00af00\">6,785</span> (26.50 KB)\n",
       "</pre>\n"
      ]
     },
     "metadata": {},
     "output_type": "display_data"
    },
    {
     "data": {
      "text/plain": [
       "\u001B[1m Non-trainable params: \u001B[0m\u001B[38;5;34m0\u001B[0m (0.00 B)\n"
      ],
      "text/html": [
       "<pre style=\"white-space:pre;overflow-x:auto;line-height:normal;font-family:Menlo,'DejaVu Sans Mono',consolas,'Courier New',monospace\"><span style=\"font-weight: bold\"> Non-trainable params: </span><span style=\"color: #00af00; text-decoration-color: #00af00\">0</span> (0.00 B)\n",
       "</pre>\n"
      ]
     },
     "metadata": {},
     "output_type": "display_data"
    },
    {
     "name": "stdout",
     "output_type": "stream",
     "text": [
      "\n",
      "\n"
     ]
    }
   ],
   "execution_count": 17
  },
  {
   "cell_type": "markdown",
   "id": "32e0704a",
   "metadata": {},
   "source": [
    "## Training Model"
   ]
  },
  {
   "cell_type": "code",
   "id": "3bf8652e",
   "metadata": {
    "ExecuteTime": {
     "end_time": "2025-08-08T07:21:38.824032Z",
     "start_time": "2025-08-08T07:06:28.005738Z"
    }
   },
   "source": [
    "history = model.fit(\n",
    "    X_train_scaled,\n",
    "    y_train,\n",
    "    epochs=15,\n",
    "    batch_size=32,\n",
    "    validation_split=0.2,\n",
    "    verbose=1\n",
    ")\n",
    "print(\"--- Pelatihan Model Selesai ---\\n\")"
   ],
   "outputs": [
    {
     "name": "stdout",
     "output_type": "stream",
     "text": [
      "Epoch 1/15\n",
      "\u001B[1m18750/18750\u001B[0m \u001B[32m━━━━━━━━━━━━━━━━━━━━\u001B[0m\u001B[37m\u001B[0m \u001B[1m83s\u001B[0m 4ms/step - loss: 60.9461 - mean_absolute_error: 2.9664 - val_loss: 13.2891 - val_mean_absolute_error: 2.2230\n",
      "Epoch 2/15\n",
      "\u001B[1m18750/18750\u001B[0m \u001B[32m━━━━━━━━━━━━━━━━━━━━\u001B[0m\u001B[37m\u001B[0m \u001B[1m55s\u001B[0m 3ms/step - loss: 14.5839 - mean_absolute_error: 2.3282 - val_loss: 14.5488 - val_mean_absolute_error: 2.3654\n",
      "Epoch 3/15\n",
      "\u001B[1m18750/18750\u001B[0m \u001B[32m━━━━━━━━━━━━━━━━━━━━\u001B[0m\u001B[37m\u001B[0m \u001B[1m67s\u001B[0m 4ms/step - loss: 14.3528 - mean_absolute_error: 2.3007 - val_loss: 13.2274 - val_mean_absolute_error: 2.2167\n",
      "Epoch 4/15\n",
      "\u001B[1m18750/18750\u001B[0m \u001B[32m━━━━━━━━━━━━━━━━━━━━\u001B[0m\u001B[37m\u001B[0m \u001B[1m74s\u001B[0m 4ms/step - loss: 14.2164 - mean_absolute_error: 2.2867 - val_loss: 13.1521 - val_mean_absolute_error: 2.2071\n",
      "Epoch 5/15\n",
      "\u001B[1m18750/18750\u001B[0m \u001B[32m━━━━━━━━━━━━━━━━━━━━\u001B[0m\u001B[37m\u001B[0m \u001B[1m71s\u001B[0m 4ms/step - loss: 14.0593 - mean_absolute_error: 2.2716 - val_loss: 13.4237 - val_mean_absolute_error: 2.2640\n",
      "Epoch 6/15\n",
      "\u001B[1m18750/18750\u001B[0m \u001B[32m━━━━━━━━━━━━━━━━━━━━\u001B[0m\u001B[37m\u001B[0m \u001B[1m63s\u001B[0m 3ms/step - loss: 14.0091 - mean_absolute_error: 2.2695 - val_loss: 13.5918 - val_mean_absolute_error: 2.2581\n",
      "Epoch 7/15\n",
      "\u001B[1m18750/18750\u001B[0m \u001B[32m━━━━━━━━━━━━━━━━━━━━\u001B[0m\u001B[37m\u001B[0m \u001B[1m81s\u001B[0m 3ms/step - loss: 13.9089 - mean_absolute_error: 2.2578 - val_loss: 13.3661 - val_mean_absolute_error: 2.2225\n",
      "Epoch 8/15\n",
      "\u001B[1m18750/18750\u001B[0m \u001B[32m━━━━━━━━━━━━━━━━━━━━\u001B[0m\u001B[37m\u001B[0m \u001B[1m66s\u001B[0m 3ms/step - loss: 13.8495 - mean_absolute_error: 2.2559 - val_loss: 13.2385 - val_mean_absolute_error: 2.1870\n",
      "Epoch 9/15\n",
      "\u001B[1m18750/18750\u001B[0m \u001B[32m━━━━━━━━━━━━━━━━━━━━\u001B[0m\u001B[37m\u001B[0m \u001B[1m60s\u001B[0m 3ms/step - loss: 13.8034 - mean_absolute_error: 2.2511 - val_loss: 14.1103 - val_mean_absolute_error: 2.3199\n",
      "Epoch 10/15\n",
      "\u001B[1m18750/18750\u001B[0m \u001B[32m━━━━━━━━━━━━━━━━━━━━\u001B[0m\u001B[37m\u001B[0m \u001B[1m58s\u001B[0m 3ms/step - loss: 13.6949 - mean_absolute_error: 2.2437 - val_loss: 13.6895 - val_mean_absolute_error: 2.2980\n",
      "Epoch 11/15\n",
      "\u001B[1m18750/18750\u001B[0m \u001B[32m━━━━━━━━━━━━━━━━━━━━\u001B[0m\u001B[37m\u001B[0m \u001B[1m67s\u001B[0m 4ms/step - loss: 13.6631 - mean_absolute_error: 2.2418 - val_loss: 12.5866 - val_mean_absolute_error: 2.1477\n",
      "Epoch 12/15\n",
      "\u001B[1m18750/18750\u001B[0m \u001B[32m━━━━━━━━━━━━━━━━━━━━\u001B[0m\u001B[37m\u001B[0m \u001B[1m62s\u001B[0m 3ms/step - loss: 13.5744 - mean_absolute_error: 2.2349 - val_loss: 13.3230 - val_mean_absolute_error: 2.3068\n",
      "Epoch 13/15\n",
      "\u001B[1m18750/18750\u001B[0m \u001B[32m━━━━━━━━━━━━━━━━━━━━\u001B[0m\u001B[37m\u001B[0m \u001B[1m37s\u001B[0m 2ms/step - loss: 13.5138 - mean_absolute_error: 2.2320 - val_loss: 12.9415 - val_mean_absolute_error: 2.2374\n",
      "Epoch 14/15\n",
      "\u001B[1m18750/18750\u001B[0m \u001B[32m━━━━━━━━━━━━━━━━━━━━\u001B[0m\u001B[37m\u001B[0m \u001B[1m34s\u001B[0m 2ms/step - loss: 13.4885 - mean_absolute_error: 2.2286 - val_loss: 12.8232 - val_mean_absolute_error: 2.1953\n",
      "Epoch 15/15\n",
      "\u001B[1m18750/18750\u001B[0m \u001B[32m━━━━━━━━━━━━━━━━━━━━\u001B[0m\u001B[37m\u001B[0m \u001B[1m33s\u001B[0m 2ms/step - loss: 13.4039 - mean_absolute_error: 2.2238 - val_loss: 14.2806 - val_mean_absolute_error: 2.3767\n",
      "--- Pelatihan Model Selesai ---\n",
      "\n"
     ]
    }
   ],
   "execution_count": 18
  },
  {
   "cell_type": "markdown",
   "id": "3e934920",
   "metadata": {},
   "source": [
    "## VISUALISASI HASIL TRAINING (Tidak ada perubahan)"
   ]
  },
  {
   "cell_type": "code",
   "id": "2d808ce6",
   "metadata": {
    "ExecuteTime": {
     "end_time": "2025-08-08T07:47:38.764681Z",
     "start_time": "2025-08-08T07:47:28.811695Z"
    }
   },
   "source": [
    "print(\"--- Membuat Grafik Hasil Pelatihan ---\")\n",
    "# Membuat DataFrame dari riwayat training untuk kemudahan plotting\n",
    "hist = pd.DataFrame(history.history)\n",
    "hist['epoch'] = history.epoch\n",
    "\n",
    "# Tips: Anda bisa jalankan baris ini untuk melihat semua nama kolom yang tersedia\n",
    "print(\"Kolom yang tersedia di history:\", hist.columns)\n",
    "\n",
    "# Membuat plot\n",
    "plt.figure(figsize=(12, 5))\n",
    "\n",
    "# Plot untuk Loss (ini sudah benar)\n",
    "plt.subplot(1, 2, 1)\n",
    "plt.xlabel('Epoch')\n",
    "plt.ylabel('Mean Squared Error (Loss)')\n",
    "plt.plot(hist['epoch'], hist['loss'], label='Training Loss')\n",
    "plt.plot(hist['epoch'], hist['val_loss'], label='Validation Loss')\n",
    "plt.title('Training & Validation Loss')\n",
    "plt.grid(True)\n",
    "plt.legend()\n",
    "\n",
    "# Plot untuk MAE (dengan nama kolom yang sudah diperbaiki)\n",
    "plt.subplot(1, 2, 2)\n",
    "plt.xlabel('Epoch')\n",
    "plt.ylabel('Mean Absolute Error')\n",
    "plt.plot(hist['epoch'], hist['mean_absolute_error'], label='Training MAE')\n",
    "\n",
    "# ===== PERBAIKAN DI BARIS INI =====\n",
    "plt.plot(hist['epoch'], hist['val_mean_absolute_error'], label='Validation MAE') \n",
    "# ==================================\n",
    "\n",
    "plt.title('Training & Validation MAE')\n",
    "plt.grid(True)\n",
    "plt.legend()\n",
    "\n",
    "plt.tight_layout()\n",
    "plt.show()"
   ],
   "outputs": [
    {
     "name": "stdout",
     "output_type": "stream",
     "text": [
      "--- Membuat Grafik Hasil Pelatihan ---\n",
      "Kolom yang tersedia di history: Index(['loss', 'mean_absolute_error', 'val_loss', 'val_mean_absolute_error',\n",
      "       'epoch'],\n",
      "      dtype='object')\n"
     ]
    },
    {
     "data": {
      "text/plain": [
       "<Figure size 1200x500 with 2 Axes>"
      ],
      "image/png": "[encoded data removed]"
     },
     "metadata": {},
     "output_type": "display_data"
    }
   ],
   "execution_count": 19
  },
  {
   "cell_type": "code",
   "id": "164a64f4",
   "metadata": {
    "ExecuteTime": {
     "end_time": "2025-08-08T07:47:51.891748Z",
     "start_time": "2025-08-08T07:47:39.018039Z"
    }
   },
   "source": [
    "predictions = model.predict(X_test_scaled)\n",
    "\n",
    "# Melihat 5 hasil prediksi pertama\n",
    "print(\"Contoh 5 hasil prediksi kalori pada data test:\")\n",
    "print(predictions[:5].flatten())"
   ],
   "outputs": [
    {
     "name": "stdout",
     "output_type": "stream",
     "text": [
      "\u001B[1m7813/7813\u001B[0m \u001B[32m━━━━━━━━━━━━━━━━━━━━\u001B[0m\u001B[37m\u001B[0m \u001B[1m9s\u001B[0m 1ms/step\n",
      "Contoh 5 hasil prediksi kalori pada data test:\n",
      "[ 26.553062 106.395325  85.59959  124.10967   74.97847 ]\n"
     ]
    }
   ],
   "execution_count": 20
  },
  {
   "cell_type": "code",
   "id": "78cdb0c0",
   "metadata": {
    "ExecuteTime": {
     "end_time": "2025-08-08T07:48:28.231429Z",
     "start_time": "2025-08-08T07:47:52.064521Z"
    }
   },
   "source": [
    "from sklearn.metrics import r2_score\n",
    "\n",
    "# Lakukan prediksi pada data training yang sudah di-scale\n",
    "y_pred_train = model.predict(X_train_scaled)\n",
    "\n",
    "# Bandingkan hasil prediksi (y_pred_train) dengan nilai asli (y_train)\n",
    "r2 = r2_score(y_train, y_pred_train)\n",
    "\n",
    "print(f\"Nilai R-squared (R²) pada data training: {r2:.4f}\")\n",
    "print(f\"Artinya, model ini mampu menjelaskan sekitar {r2:.2%} dari variasi data kalori.\")"
   ],
   "outputs": [
    {
     "name": "stdout",
     "output_type": "stream",
     "text": [
      "\u001B[1m23438/23438\u001B[0m \u001B[32m━━━━━━━━━━━━━━━━━━━━\u001B[0m\u001B[37m\u001B[0m \u001B[1m26s\u001B[0m 1ms/step\n",
      "Nilai R-squared (R²) pada data training: 0.9963\n",
      "Artinya, model ini mampu menjelaskan sekitar 99.63% dari variasi data kalori.\n"
     ]
    }
   ],
   "execution_count": 21
  }
 ],
 "metadata": {
  "kernelspec": {
   "display_name": "venv",
   "language": "python",
   "name": "python3"
  },
  "language_info": {
   "codemirror_mode": {
    "name": "ipython",
    "version": 3
   },
   "file_extension": ".py",
   "mimetype": "text/x-python",
   "name": "python",
   "nbconvert_exporter": "python",
   "pygments_lexer": "ipython3",
   "version": "3.10.11"
  }
 },
 "nbformat": 4,
 "nbformat_minor": 5
}
